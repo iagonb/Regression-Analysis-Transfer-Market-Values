{
 "cells": [
  {
   "cell_type": "markdown",
   "metadata": {},
   "source": [
    "# Data Import"
   ]
  },
  {
   "cell_type": "code",
   "execution_count": 1,
   "metadata": {},
   "outputs": [],
   "source": [
    "import pandas as pd\n",
    "import numpy as np"
   ]
  },
  {
   "cell_type": "code",
   "execution_count": 2,
   "metadata": {},
   "outputs": [
    {
     "name": "stdout",
     "output_type": "stream",
     "text": [
      "C:\\Users\\User\\Documents\\Jupyter Notebooks\\transfer-market\\data\n"
     ]
    }
   ],
   "source": [
    "cd data\\2021"
   ]
  },
  {
   "cell_type": "code",
   "execution_count": 5,
   "metadata": {},
   "outputs": [],
   "source": [
    "premier_data = pd.read_csv(\"english_premier_league.csv\")"
   ]
  },
  {
   "cell_type": "code",
   "execution_count": 7,
   "metadata": {},
   "outputs": [
    {
     "data": {
      "text/html": [
       "<div>\n",
       "<style scoped>\n",
       "    .dataframe tbody tr th:only-of-type {\n",
       "        vertical-align: middle;\n",
       "    }\n",
       "\n",
       "    .dataframe tbody tr th {\n",
       "        vertical-align: top;\n",
       "    }\n",
       "\n",
       "    .dataframe thead th {\n",
       "        text-align: right;\n",
       "    }\n",
       "</style>\n",
       "<table border=\"1\" class=\"dataframe\">\n",
       "  <thead>\n",
       "    <tr style=\"text-align: right;\">\n",
       "      <th></th>\n",
       "      <th>club_name</th>\n",
       "      <th>player_name</th>\n",
       "      <th>age</th>\n",
       "      <th>position</th>\n",
       "      <th>club_involved_name</th>\n",
       "      <th>fee</th>\n",
       "      <th>transfer_movement</th>\n",
       "      <th>transfer_period</th>\n",
       "      <th>fee_cleaned</th>\n",
       "      <th>league_name</th>\n",
       "      <th>year</th>\n",
       "      <th>season</th>\n",
       "    </tr>\n",
       "  </thead>\n",
       "  <tbody>\n",
       "    <tr>\n",
       "      <th>0</th>\n",
       "      <td>Arsenal FC</td>\n",
       "      <td>Ben White</td>\n",
       "      <td>23</td>\n",
       "      <td>Centre-Back</td>\n",
       "      <td>Brighton</td>\n",
       "      <td>£52.65m</td>\n",
       "      <td>in</td>\n",
       "      <td>Summer</td>\n",
       "      <td>52.65</td>\n",
       "      <td>Premier League</td>\n",
       "      <td>2021</td>\n",
       "      <td>2021/2022</td>\n",
       "    </tr>\n",
       "    <tr>\n",
       "      <th>1</th>\n",
       "      <td>Arsenal FC</td>\n",
       "      <td>Martin Ødegaard</td>\n",
       "      <td>22</td>\n",
       "      <td>Attacking Midfield</td>\n",
       "      <td>Real Madrid</td>\n",
       "      <td>£31.50m</td>\n",
       "      <td>in</td>\n",
       "      <td>Summer</td>\n",
       "      <td>31.50</td>\n",
       "      <td>Premier League</td>\n",
       "      <td>2021</td>\n",
       "      <td>2021/2022</td>\n",
       "    </tr>\n",
       "    <tr>\n",
       "      <th>2</th>\n",
       "      <td>Arsenal FC</td>\n",
       "      <td>Aaron Ramsdale</td>\n",
       "      <td>23</td>\n",
       "      <td>Goalkeeper</td>\n",
       "      <td>Sheff Utd</td>\n",
       "      <td>£25.20m</td>\n",
       "      <td>in</td>\n",
       "      <td>Summer</td>\n",
       "      <td>25.20</td>\n",
       "      <td>Premier League</td>\n",
       "      <td>2021</td>\n",
       "      <td>2021/2022</td>\n",
       "    </tr>\n",
       "    <tr>\n",
       "      <th>3</th>\n",
       "      <td>Arsenal FC</td>\n",
       "      <td>Takehiro Tomiyasu</td>\n",
       "      <td>22</td>\n",
       "      <td>Right-Back</td>\n",
       "      <td>Bologna</td>\n",
       "      <td>£16.74m</td>\n",
       "      <td>in</td>\n",
       "      <td>Summer</td>\n",
       "      <td>16.74</td>\n",
       "      <td>Premier League</td>\n",
       "      <td>2021</td>\n",
       "      <td>2021/2022</td>\n",
       "    </tr>\n",
       "    <tr>\n",
       "      <th>4</th>\n",
       "      <td>Arsenal FC</td>\n",
       "      <td>Albert Sambi Lokonga</td>\n",
       "      <td>21</td>\n",
       "      <td>Central Midfield</td>\n",
       "      <td>RSC Anderlecht</td>\n",
       "      <td>£15.75m</td>\n",
       "      <td>in</td>\n",
       "      <td>Summer</td>\n",
       "      <td>15.75</td>\n",
       "      <td>Premier League</td>\n",
       "      <td>2021</td>\n",
       "      <td>2021/2022</td>\n",
       "    </tr>\n",
       "  </tbody>\n",
       "</table>\n",
       "</div>"
      ],
      "text/plain": [
       "    club_name           player_name  age            position  \\\n",
       "0  Arsenal FC             Ben White   23         Centre-Back   \n",
       "1  Arsenal FC       Martin Ødegaard   22  Attacking Midfield   \n",
       "2  Arsenal FC        Aaron Ramsdale   23          Goalkeeper   \n",
       "3  Arsenal FC     Takehiro Tomiyasu   22          Right-Back   \n",
       "4  Arsenal FC  Albert Sambi Lokonga   21    Central Midfield   \n",
       "\n",
       "  club_involved_name      fee transfer_movement transfer_period  fee_cleaned  \\\n",
       "0           Brighton  £52.65m                in          Summer        52.65   \n",
       "1        Real Madrid  £31.50m                in          Summer        31.50   \n",
       "2          Sheff Utd  £25.20m                in          Summer        25.20   \n",
       "3            Bologna  £16.74m                in          Summer        16.74   \n",
       "4     RSC Anderlecht  £15.75m                in          Summer        15.75   \n",
       "\n",
       "      league_name  year     season  \n",
       "0  Premier League  2021  2021/2022  \n",
       "1  Premier League  2021  2021/2022  \n",
       "2  Premier League  2021  2021/2022  \n",
       "3  Premier League  2021  2021/2022  \n",
       "4  Premier League  2021  2021/2022  "
      ]
     },
     "execution_count": 7,
     "metadata": {},
     "output_type": "execute_result"
    }
   ],
   "source": [
    "premier_data.head()"
   ]
  },
  {
   "cell_type": "code",
   "execution_count": null,
   "metadata": {},
   "outputs": [],
   "source": []
  },
  {
   "cell_type": "code",
   "execution_count": null,
   "metadata": {},
   "outputs": [],
   "source": []
  }
 ],
 "metadata": {
  "kernelspec": {
   "display_name": "Python 3",
   "language": "python",
   "name": "python3"
  },
  "language_info": {
   "codemirror_mode": {
    "name": "ipython",
    "version": 3
   },
   "file_extension": ".py",
   "mimetype": "text/x-python",
   "name": "python",
   "nbconvert_exporter": "python",
   "pygments_lexer": "ipython3",
   "version": "3.8.3"
  }
 },
 "nbformat": 4,
 "nbformat_minor": 4
}
